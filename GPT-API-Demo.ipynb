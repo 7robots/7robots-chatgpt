{
 "cells": [
  {
   "attachments": {},
   "cell_type": "markdown",
   "metadata": {},
   "source": [
    "# 1. Getting Started - Load API Key to ChatGPT\n",
    "  \n",
    "* import python modules\n",
    "* load API key from env file\n",
    "* other environment variables could be set in this cell or in the env file\n",
    "* Note: This could be distributed as a Jupyter notebook to everyone in class to get started \n"
   ]
  },
  {
   "cell_type": "code",
   "execution_count": 3,
   "metadata": {},
   "outputs": [],
   "source": [
    "import openai\n",
    "import os\n",
    "\n",
    "%load_ext dotenv\n",
    "# %reload_ext dotenv\n",
    "%dotenv\n",
    "\n",
    "openai.api_key = os.environ.get(\"API_TOKEN\")\n"
   ]
  },
  {
   "attachments": {},
   "cell_type": "markdown",
   "metadata": {},
   "source": [
    "# 2. Basic Question/Prompt to GPT-3"
   ]
  },
  {
   "cell_type": "code",
   "execution_count": 28,
   "metadata": {},
   "outputs": [
    {
     "name": "stdout",
     "output_type": "stream",
     "text": [
      "1. Impact Craters, Bowls and Basins: These are depressions on the lunar surface created by huge collisions with asteroids, planets and other bodies in space.\n",
      "\n",
      "2. Mountains, Ridges and Domes: These features are created when material from the lunar interior rises to the surface due to cooling or shrinking of the lunar crust.\n",
      "\n",
      "3. Valleys, Rills and Troughs: These are long, narrow formations created by the slow erosion of the highlands or by the flowing of lava.\n",
      "\n",
      "4. Plains and Patches: These are vast, flat areas which form the lowland regions of the moon. They were created by volcanic eruptions or impacts by asteroids.\n",
      "\n",
      "5. Lava Flows: These are vast, dense flows of molten rock which erupted from the largest volcanic features present on the moon.\n"
     ]
    }
   ],
   "source": [
    "myprompt = \"What are the major categories of geologic features on the moon?\"\n",
    "\n",
    "response = openai.Completion.create(\n",
    "    engine=\"text-davinci-003\",\n",
    "    prompt=myprompt,\n",
    "    max_tokens=200,\n",
    "    n=1,\n",
    "    stop=None,\n",
    ")\n",
    "\n",
    "message = response.choices[0].text.strip()\n",
    "print(message)"
   ]
  },
  {
   "attachments": {},
   "cell_type": "markdown",
   "metadata": {},
   "source": [
    "# 3. Same Question to GPT 3.5\n",
    "\n",
    "Note the change in syntax for GPT-3-.5\n",
    "More pythonic\n",
    "Able to change both role and voice programmatically"
   ]
  },
  {
   "cell_type": "code",
   "execution_count": 4,
   "metadata": {},
   "outputs": [
    {
     "name": "stdout",
     "output_type": "stream",
     "text": [
      "The major categories of geologic features on the moon include craters, maria, highlands, rilles, domes, and mountains.\n"
     ]
    }
   ],
   "source": [
    "myprompt = \"What are the major categories of geologic features on the moon?\"\n",
    "\n",
    "completion = openai.ChatCompletion.create(\n",
    "  model=\"gpt-3.5-turbo\",\n",
    "  messages=[\n",
    "    {\"role\": \"user\", \"content\": myprompt}\n",
    "  ]\n",
    ")\n",
    "\n",
    "print(completion.choices[0].message.content)"
   ]
  },
  {
   "attachments": {},
   "cell_type": "markdown",
   "metadata": {},
   "source": [
    "# 4. You can change voice in the API the same way you do with the web interface."
   ]
  },
  {
   "cell_type": "code",
   "execution_count": 8,
   "metadata": {},
   "outputs": [
    {
     "name": "stdout",
     "output_type": "stream",
     "text": [
      "Good day, class. Today, we will be discussing the major categories of geologic features on the moon. There are five main categories of geologic features on the moon, and each of them provides important clues about the moon's history and evolution.\n",
      "\n",
      "First, we have lunar craters. These are circular depressions on the moon's surface that were formed by the impact of asteroids and comets. The size and shape of craters can provide information on the age and composition of the moon's surface.\n",
      "\n",
      "Second, we have lunar mountains. These are large landforms that rise above the surrounding terrain and are often associated with impact basins. The mountains on the moon are thought to have formed as a result of the thrusting and folding of the moon's crust.\n",
      "\n",
      "Third, we have lunar maria. These are dark, flat areas on the moon's surface that were formed by ancient volcanic eruptions. The maria are thought to be much younger than the highlands and provide valuable information about the moon's interior and volcanic history.\n",
      "\n",
      "Fourth, we have lunar rilles. These are long, narrow depressions on the moon's surface that are thought to be the result of volcanic activity or the collapsing of lava tubes.\n",
      "\n",
      "Finally, we have lunar domes. These are small, rounded hills on the moon's surface that were most likely formed by the eruption of low-viscosity lava.\n",
      "\n",
      "In summary, the major categories of geologic features on the moon are craters, mountains, maria, rilles, and domes, each of which provides important information about the moon's history and evolution. Thank you for listening, and I hope you have a better understanding of lunar geology.\n"
     ]
    }
   ],
   "source": [
    "myprompt = \"In the voice of a geology professor, what are the major categories of geologic features on the moon?\"\n",
    "\n",
    "completion = openai.ChatCompletion.create(\n",
    "  model=\"gpt-3.5-turbo\",\n",
    "  messages=[\n",
    "    {\"role\": \"user\", \"content\": myprompt}\n",
    "  ]\n",
    ")\n",
    "\n",
    "print(completion.choices[0].message.content)"
   ]
  },
  {
   "attachments": {},
   "cell_type": "markdown",
   "metadata": {},
   "source": [
    "# 4. Or you can use the system role to change the voice programmatically "
   ]
  },
  {
   "cell_type": "code",
   "execution_count": 4,
   "metadata": {},
   "outputs": [
    {
     "name": "stdout",
     "output_type": "stream",
     "text": [
      "The major categories of geologic features on the moon include: \n",
      "\n",
      "1. Impact Craters: These are formed by the impacts of meteoroids on the surface of the moon.\n",
      "\n",
      "2. Maria: These are large, dark, flat areas on the moon's surface that were formed by ancient volcanic eruptions.\n",
      "\n",
      "3. Highlands: The highlands are the brighter areas of the moon's surface and are thought to be made up of highly cratered, ancient crustal material.\n",
      "\n",
      "4. Rilles: These are long, narrow depressions in the moon's surface that are thought to have been formed by lava flow.\n",
      "\n",
      "5. Mountains and Ridges: These features are found both on the moon's highlands and in the maria, and are thought to have been formed by the uplift of crustal material.\n",
      "\n",
      "6. Lunar Swirls: These are bright, swirling patterns of material found on the surface of the moon, and are thought to be the result of magnetic fields interacting with the solar wind.\n"
     ]
    }
   ],
   "source": [
    "myprompt = \"What are the major categories of geologic features on the moon?\"\n",
    "\n",
    "completion = openai.ChatCompletion.create(\n",
    "  model=\"gpt-3.5-turbo\",\n",
    "  messages=[\n",
    " {\"role\": \"system\", \"content\" : \"You are a geology professor\"},\n",
    " {\"role\": \"user\", \"content\": myprompt}\n",
    "  ]\n",
    ")\n",
    "\n",
    "print(completion.choices[0].message.content)"
   ]
  },
  {
   "attachments": {},
   "cell_type": "markdown",
   "metadata": {},
   "source": [
    "# 6. You can uploading a file and ask ChatGPT questions about the contents"
   ]
  },
  {
   "cell_type": "code",
   "execution_count": 73,
   "metadata": {},
   "outputs": [
    {
     "name": "stdout",
     "output_type": "stream",
     "text": [
      "The attendees of this meeting are: \n",
      "- Jefferson Burson\n",
      "- Dave LaPorte\n",
      "- Ventz Petkov\n",
      "- Chris Stubbs\n",
      "- Logan McCarty\n",
      "- Gregory Kestin.\n"
     ]
    }
   ],
   "source": [
    "myprompt = \"Who is attending this meeting?\"\n",
    "\n",
    "with open('meeting.txt', 'r') as file:\n",
    "    myfile = file.read().replace('\\n', '')\n",
    "\n",
    "completion = openai.ChatCompletion.create(\n",
    "  model=\"gpt-3.5-turbo\",\n",
    "  messages=[\n",
    " {\"role\": \"system\", \"content\" : \"You are a helpful assistant\"},\n",
    " {\"role\": \"assistant\", \"content\" : myfile},\n",
    " {\"role\": \"user\", \"content\" : myprompt},\n",
    "  ]\n",
    ")\n",
    "print(completion.choices[0].message.content)"
   ]
  },
  {
   "cell_type": "code",
   "execution_count": 74,
   "metadata": {},
   "outputs": [
    {
     "name": "stdout",
     "output_type": "stream",
     "text": [
      "The meeting included Jefferson Burson, Dave LaPorte, Ventz Petkov, Chris Stubbs, Logan McCarty, and Gregory Kestin, and the agenda was regarding the use of Generative AI in the classroom. During the meeting, the attendees discussed several aspects of Generative AI, such as its usefulness in generating educational material, its potential as a teaching tool, and how it could be incorporated into the curriculum. They also brainstormed ideas for practical applications of Generative AI in the classroom and discussed the challenges that would need to be addressed, such as ensuring that the technology remains accessible to all students. Overall, the meeting was productive and resulted in several actionable ideas for future implementation of Generative AI in education.\n"
     ]
    }
   ],
   "source": [
    "myprompt = \"Summarize the meeting\"\n",
    "\n",
    "with open('meeting.txt', 'r') as file:\n",
    "    myfile = file.read().replace('\\n', '')\n",
    "\n",
    "completion = openai.ChatCompletion.create(\n",
    "  model=\"gpt-3.5-turbo\",\n",
    "  messages=[\n",
    " {\"role\": \"system\", \"content\" : \"You are a helpful assistant\"},\n",
    " {\"role\": \"assistant\", \"content\" : myfile},\n",
    " {\"role\": \"user\", \"content\" : myprompt},\n",
    "  ]\n",
    ")\n",
    "print(completion.choices[0].message.content)"
   ]
  },
  {
   "attachments": {},
   "cell_type": "markdown",
   "metadata": {},
   "source": [
    "### Notice how GPT started hallucinating in this reply\n",
    "\n",
    "### what if we dial down the temperature?"
   ]
  },
  {
   "cell_type": "code",
   "execution_count": 81,
   "metadata": {},
   "outputs": [
    {
     "name": "stdout",
     "output_type": "stream",
     "text": [
      "The meeting was attended by Jefferson Burson, Dave LaPorte, Ventz Petkov, Chris Stubbs, Logan McCarty, and Gregory Kestin. The agenda of the meeting was to discuss the use of Generative AI in the classroom. The attendees discussed the potential benefits and challenges of using Generative AI in education. They also talked about the ethical considerations that need to be taken into account when using AI in the classroom. Overall, the meeting was focused on exploring the possibilities of using Generative AI to enhance the learning experience of students.\n"
     ]
    }
   ],
   "source": [
    "myprompt = \"Summarize the meeting\"\n",
    "\n",
    "with open('meeting.txt', 'r') as file:\n",
    "    myfile = file.read().replace('\\n', '')\n",
    "\n",
    "completion = openai.ChatCompletion.create(\n",
    "  model=\"gpt-3.5-turbo\",\n",
    "  temperature=0.1,\n",
    "  messages=[\n",
    " {\"role\": \"system\", \"content\" : \"You are a helpful assistant\"},\n",
    " {\"role\": \"assistant\", \"content\" : myfile},\n",
    " {\"role\": \"user\", \"content\" : myprompt},\n",
    "  ]\n",
    ")\n",
    "print(completion.choices[0].message.content)"
   ]
  },
  {
   "attachments": {},
   "cell_type": "markdown",
   "metadata": {},
   "source": [
    "# 7. You can also have ChatGPT summarize a public web page (sort of)"
   ]
  },
  {
   "cell_type": "code",
   "execution_count": 83,
   "metadata": {},
   "outputs": [
    {
     "name": "stdout",
     "output_type": "stream",
     "text": [
      "The Great Refractor is a historic telescope located at the Harvard College Observatory. It was built in 1847 and has a lens diameter of 15 inches. The telescope has been used for a variety of astronomical studies, including observing Mars and Venus, measuring the distance of stars, and mapping the Milky Way galaxy. It is still operational and is used for educational purposes and public viewing events. The Great Refractor is an important piece of scientific history and continues to inspire curiosity and wonder about the universe.\n"
     ]
    }
   ],
   "source": [
    "myprompt = \"TLDR https://hco.cfa.harvard.edu/the-great-refractor/\"\n",
    "\n",
    "completion = openai.ChatCompletion.create(\n",
    "  model=\"gpt-3.5-turbo\",\n",
    "  messages=[\n",
    " {\"role\": \"system\", \"content\" : \"You are a helpful assistant\"},\n",
    " {\"role\": \"user\", \"content\": myprompt}\n",
    "  ]\n",
    ")\n",
    "\n",
    "print(completion.choices[0].message.content)"
   ]
  }
 ],
 "metadata": {
  "kernelspec": {
   "display_name": "Python 3",
   "language": "python",
   "name": "python3"
  },
  "language_info": {
   "codemirror_mode": {
    "name": "ipython",
    "version": 3
   },
   "file_extension": ".py",
   "mimetype": "text/x-python",
   "name": "python",
   "nbconvert_exporter": "python",
   "pygments_lexer": "ipython3",
   "version": "3.11.2"
  },
  "orig_nbformat": 4
 },
 "nbformat": 4,
 "nbformat_minor": 2
}
