{
 "cells": [
  {
   "attachments": {},
   "cell_type": "markdown",
   "metadata": {},
   "source": [
    "# Initiate Settings\n",
    "  \n",
    "* import python modules\n",
    "* load API key from env file\n",
    "* Note: This could be distributed as a Jupyter notebook to everyone in class to get started \n"
   ]
  },
  {
   "cell_type": "code",
   "execution_count": 3,
   "metadata": {},
   "outputs": [],
   "source": [
    "import openai\n",
    "import os\n",
    "\n",
    "%load_ext dotenv\n",
    "# %reload_ext dotenv\n",
    "%dotenv\n",
    "\n",
    "openai.api_key = os.environ.get(\"API_TOKEN\")"
   ]
  },
  {
   "attachments": {},
   "cell_type": "markdown",
   "metadata": {},
   "source": [
    "# First GPT Prompt leveraging GPT 3 text completion"
   ]
  },
  {
   "cell_type": "code",
   "execution_count": 3,
   "metadata": {},
   "outputs": [
    {
     "name": "stdout",
     "output_type": "stream",
     "text": [
      "The major categories of geologic features on the moon are impact craters, mare (dark plains), mountain ranges, rilles, domes, and wrinkle ridges.\n"
     ]
    }
   ],
   "source": [
    "myprompt = \"What are the major categories of geologic features on the moon?\"\n",
    "\n",
    "response = openai.Completion.create(\n",
    "    engine=\"text-davinci-003\",\n",
    "    prompt=myprompt,\n",
    "    max_tokens=200,\n",
    "    n=1,\n",
    "    stop=None,\n",
    "    temperature=0.7,\n",
    ")\n",
    "\n",
    "message = response.choices[0].text.strip()\n",
    "print(message)"
   ]
  },
  {
   "attachments": {},
   "cell_type": "markdown",
   "metadata": {},
   "source": [
    "# GPT 3.5 Turbo Prompt"
   ]
  },
  {
   "cell_type": "code",
   "execution_count": 4,
   "metadata": {},
   "outputs": [
    {
     "name": "stdout",
     "output_type": "stream",
     "text": [
      "The major categories of geologic features on the moon include craters, maria, highlands, rilles, domes, and mountains.\n"
     ]
    }
   ],
   "source": [
    "myprompt = \"What are the major categories of geologic features on the moon?\"\n",
    "\n",
    "completion = openai.ChatCompletion.create(\n",
    "  model=\"gpt-3.5-turbo\",\n",
    "  messages=[\n",
    "    {\"role\": \"user\", \"content\": myprompt}\n",
    "  ]\n",
    ")\n",
    "\n",
    "print(completion.choices[0].message.content)"
   ]
  },
  {
   "attachments": {},
   "cell_type": "markdown",
   "metadata": {},
   "source": [
    "# GPT 3.5 Turbo Prompt with Different Voice"
   ]
  },
  {
   "cell_type": "code",
   "execution_count": 8,
   "metadata": {},
   "outputs": [
    {
     "name": "stdout",
     "output_type": "stream",
     "text": [
      "Good day, class. Today, we will be discussing the major categories of geologic features on the moon. There are five main categories of geologic features on the moon, and each of them provides important clues about the moon's history and evolution.\n",
      "\n",
      "First, we have lunar craters. These are circular depressions on the moon's surface that were formed by the impact of asteroids and comets. The size and shape of craters can provide information on the age and composition of the moon's surface.\n",
      "\n",
      "Second, we have lunar mountains. These are large landforms that rise above the surrounding terrain and are often associated with impact basins. The mountains on the moon are thought to have formed as a result of the thrusting and folding of the moon's crust.\n",
      "\n",
      "Third, we have lunar maria. These are dark, flat areas on the moon's surface that were formed by ancient volcanic eruptions. The maria are thought to be much younger than the highlands and provide valuable information about the moon's interior and volcanic history.\n",
      "\n",
      "Fourth, we have lunar rilles. These are long, narrow depressions on the moon's surface that are thought to be the result of volcanic activity or the collapsing of lava tubes.\n",
      "\n",
      "Finally, we have lunar domes. These are small, rounded hills on the moon's surface that were most likely formed by the eruption of low-viscosity lava.\n",
      "\n",
      "In summary, the major categories of geologic features on the moon are craters, mountains, maria, rilles, and domes, each of which provides important information about the moon's history and evolution. Thank you for listening, and I hope you have a better understanding of lunar geology.\n"
     ]
    }
   ],
   "source": [
    "myprompt = \"In the voice of a geology professor, what are the major categories of geologic features on the moon?\"\n",
    "\n",
    "completion = openai.ChatCompletion.create(\n",
    "  model=\"gpt-3.5-turbo\",\n",
    "  messages=[\n",
    "    {\"role\": \"user\", \"content\": myprompt}\n",
    "  ]\n",
    ")\n",
    "\n",
    "print(completion.choices[0].message.content)"
   ]
  },
  {
   "attachments": {},
   "cell_type": "markdown",
   "metadata": {},
   "source": [
    "# GPT 3.5 Turbo Prompt - using system to change voice"
   ]
  },
  {
   "cell_type": "code",
   "execution_count": 4,
   "metadata": {},
   "outputs": [
    {
     "name": "stdout",
     "output_type": "stream",
     "text": [
      "The major categories of geologic features on the moon include: \n",
      "\n",
      "1. Impact Craters: These are formed by the impacts of meteoroids on the surface of the moon.\n",
      "\n",
      "2. Maria: These are large, dark, flat areas on the moon's surface that were formed by ancient volcanic eruptions.\n",
      "\n",
      "3. Highlands: The highlands are the brighter areas of the moon's surface and are thought to be made up of highly cratered, ancient crustal material.\n",
      "\n",
      "4. Rilles: These are long, narrow depressions in the moon's surface that are thought to have been formed by lava flow.\n",
      "\n",
      "5. Mountains and Ridges: These features are found both on the moon's highlands and in the maria, and are thought to have been formed by the uplift of crustal material.\n",
      "\n",
      "6. Lunar Swirls: These are bright, swirling patterns of material found on the surface of the moon, and are thought to be the result of magnetic fields interacting with the solar wind.\n"
     ]
    }
   ],
   "source": [
    "myprompt = \"What are the major categories of geologic features on the moon?\"\n",
    "\n",
    "completion = openai.ChatCompletion.create(\n",
    "  model=\"gpt-3.5-turbo\",\n",
    "  messages=[\n",
    " {\"role\": \"system\", \"content\" : \"You are a geology professor\"},\n",
    " {\"role\": \"user\", \"content\": myprompt}\n",
    "  ]\n",
    ")\n",
    "\n",
    "print(completion.choices[0].message.content)"
   ]
  },
  {
   "attachments": {},
   "cell_type": "markdown",
   "metadata": {},
   "source": [
    "# Problems"
   ]
  },
  {
   "cell_type": "code",
   "execution_count": 5,
   "metadata": {},
   "outputs": [
    {
     "name": "stdout",
     "output_type": "stream",
     "text": [
      "The top five craters on the Moon, sorted by diameter, are:\n",
      "\n",
      "1. South Pole-Aitken Basin - 2,500 km\n",
      "2. Imbrium Basin - 1,100 km\n",
      "3. Serenitatis Basin - 930 km\n",
      "4. Crisium Basin - 740 km\n",
      "5. Nectaris Basin - 610 km\n"
     ]
    }
   ],
   "source": [
    "myprompt = \"What are the top five craters of the Moon are, sorted by diameter?\"\n",
    "\n",
    "completion = openai.ChatCompletion.create(\n",
    "  model=\"gpt-3.5-turbo\",\n",
    "  messages=[\n",
    " {\"role\": \"system\", \"content\" : \"You are a laconic assistant\"},\n",
    " {\"role\": \"user\", \"content\": myprompt}\n",
    "  ]\n",
    ")\n",
    "\n",
    "print(completion.choices[0].message.content)"
   ]
  }
 ],
 "metadata": {
  "kernelspec": {
   "display_name": "Python 3",
   "language": "python",
   "name": "python3"
  },
  "language_info": {
   "codemirror_mode": {
    "name": "ipython",
    "version": 3
   },
   "file_extension": ".py",
   "mimetype": "text/x-python",
   "name": "python",
   "nbconvert_exporter": "python",
   "pygments_lexer": "ipython3",
   "version": "3.11.2"
  },
  "orig_nbformat": 4
 },
 "nbformat": 4,
 "nbformat_minor": 2
}
