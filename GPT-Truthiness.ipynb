{
 "cells": [
  {
   "attachments": {},
   "cell_type": "markdown",
   "metadata": {},
   "source": [
    "# 1. Initiate Settings\n",
    "  \n",
    "* import python modules\n",
    "* load API key from env file\n",
    "* other environment variables could be set in this cell or in the env file\n",
    "* Note: This could be distributed as a Jupyter notebook to everyone in class to get started \n"
   ]
  },
  {
   "cell_type": "code",
   "execution_count": 3,
   "metadata": {},
   "outputs": [],
   "source": [
    "import openai\n",
    "import os\n",
    "\n",
    "%load_ext dotenv\n",
    "# %reload_ext dotenv\n",
    "%dotenv\n",
    "\n",
    "openai.api_key = os.environ.get(\"API_TOKEN\")"
   ]
  },
  {
   "attachments": {},
   "cell_type": "markdown",
   "metadata": {},
   "source": [
    "# 2. First GPT Prompt leveraging GPT 3 DaVinci model for text completion"
   ]
  },
  {
   "cell_type": "code",
   "execution_count": 28,
   "metadata": {},
   "outputs": [
    {
     "name": "stdout",
     "output_type": "stream",
     "text": [
      "1. Impact Craters, Bowls and Basins: These are depressions on the lunar surface created by huge collisions with asteroids, planets and other bodies in space.\n",
      "\n",
      "2. Mountains, Ridges and Domes: These features are created when material from the lunar interior rises to the surface due to cooling or shrinking of the lunar crust.\n",
      "\n",
      "3. Valleys, Rills and Troughs: These are long, narrow formations created by the slow erosion of the highlands or by the flowing of lava.\n",
      "\n",
      "4. Plains and Patches: These are vast, flat areas which form the lowland regions of the moon. They were created by volcanic eruptions or impacts by asteroids.\n",
      "\n",
      "5. Lava Flows: These are vast, dense flows of molten rock which erupted from the largest volcanic features present on the moon.\n"
     ]
    }
   ],
   "source": [
    "myprompt = \"What are the major categories of geologic features on the moon?\"\n",
    "\n",
    "response = openai.Completion.create(\n",
    "    engine=\"text-davinci-003\",\n",
    "    prompt=myprompt,\n",
    "    max_tokens=200,\n",
    "    n=1,\n",
    "    stop=None,\n",
    ")\n",
    "\n",
    "message = response.choices[0].text.strip()\n",
    "print(message)"
   ]
  },
  {
   "attachments": {},
   "cell_type": "markdown",
   "metadata": {},
   "source": [
    "# GPT 3.5 Turbo Prompt"
   ]
  },
  {
   "cell_type": "code",
   "execution_count": 4,
   "metadata": {},
   "outputs": [
    {
     "name": "stdout",
     "output_type": "stream",
     "text": [
      "The major categories of geologic features on the moon include craters, maria, highlands, rilles, domes, and mountains.\n"
     ]
    }
   ],
   "source": [
    "myprompt = \"What are the major categories of geologic features on the moon?\"\n",
    "\n",
    "completion = openai.ChatCompletion.create(\n",
    "  model=\"gpt-3.5-turbo\",\n",
    "  messages=[\n",
    "    {\"role\": \"user\", \"content\": myprompt}\n",
    "  ]\n",
    ")\n",
    "\n",
    "print(completion.choices[0].message.content)"
   ]
  },
  {
   "attachments": {},
   "cell_type": "markdown",
   "metadata": {},
   "source": [
    "# GPT 3.5 Turbo Prompt with Different Voice"
   ]
  },
  {
   "cell_type": "code",
   "execution_count": 8,
   "metadata": {},
   "outputs": [
    {
     "name": "stdout",
     "output_type": "stream",
     "text": [
      "Good day, class. Today, we will be discussing the major categories of geologic features on the moon. There are five main categories of geologic features on the moon, and each of them provides important clues about the moon's history and evolution.\n",
      "\n",
      "First, we have lunar craters. These are circular depressions on the moon's surface that were formed by the impact of asteroids and comets. The size and shape of craters can provide information on the age and composition of the moon's surface.\n",
      "\n",
      "Second, we have lunar mountains. These are large landforms that rise above the surrounding terrain and are often associated with impact basins. The mountains on the moon are thought to have formed as a result of the thrusting and folding of the moon's crust.\n",
      "\n",
      "Third, we have lunar maria. These are dark, flat areas on the moon's surface that were formed by ancient volcanic eruptions. The maria are thought to be much younger than the highlands and provide valuable information about the moon's interior and volcanic history.\n",
      "\n",
      "Fourth, we have lunar rilles. These are long, narrow depressions on the moon's surface that are thought to be the result of volcanic activity or the collapsing of lava tubes.\n",
      "\n",
      "Finally, we have lunar domes. These are small, rounded hills on the moon's surface that were most likely formed by the eruption of low-viscosity lava.\n",
      "\n",
      "In summary, the major categories of geologic features on the moon are craters, mountains, maria, rilles, and domes, each of which provides important information about the moon's history and evolution. Thank you for listening, and I hope you have a better understanding of lunar geology.\n"
     ]
    }
   ],
   "source": [
    "myprompt = \"In the voice of a geology professor, what are the major categories of geologic features on the moon?\"\n",
    "\n",
    "completion = openai.ChatCompletion.create(\n",
    "  model=\"gpt-3.5-turbo\",\n",
    "  messages=[\n",
    "    {\"role\": \"user\", \"content\": myprompt}\n",
    "  ]\n",
    ")\n",
    "\n",
    "print(completion.choices[0].message.content)"
   ]
  },
  {
   "attachments": {},
   "cell_type": "markdown",
   "metadata": {},
   "source": [
    "# GPT 3.5 Turbo Prompt - using system to change voice"
   ]
  },
  {
   "cell_type": "code",
   "execution_count": 4,
   "metadata": {},
   "outputs": [
    {
     "name": "stdout",
     "output_type": "stream",
     "text": [
      "The major categories of geologic features on the moon include: \n",
      "\n",
      "1. Impact Craters: These are formed by the impacts of meteoroids on the surface of the moon.\n",
      "\n",
      "2. Maria: These are large, dark, flat areas on the moon's surface that were formed by ancient volcanic eruptions.\n",
      "\n",
      "3. Highlands: The highlands are the brighter areas of the moon's surface and are thought to be made up of highly cratered, ancient crustal material.\n",
      "\n",
      "4. Rilles: These are long, narrow depressions in the moon's surface that are thought to have been formed by lava flow.\n",
      "\n",
      "5. Mountains and Ridges: These features are found both on the moon's highlands and in the maria, and are thought to have been formed by the uplift of crustal material.\n",
      "\n",
      "6. Lunar Swirls: These are bright, swirling patterns of material found on the surface of the moon, and are thought to be the result of magnetic fields interacting with the solar wind.\n"
     ]
    }
   ],
   "source": [
    "myprompt = \"What are the major categories of geologic features on the moon?\"\n",
    "\n",
    "completion = openai.ChatCompletion.create(\n",
    "  model=\"gpt-3.5-turbo\",\n",
    "  messages=[\n",
    " {\"role\": \"system\", \"content\" : \"You are a geology professor\"},\n",
    " {\"role\": \"user\", \"content\": myprompt}\n",
    "  ]\n",
    ")\n",
    "\n",
    "print(completion.choices[0].message.content)"
   ]
  },
  {
   "attachments": {},
   "cell_type": "markdown",
   "metadata": {},
   "source": [
    "# Uploading a File"
   ]
  },
  {
   "cell_type": "code",
   "execution_count": 72,
   "metadata": {},
   "outputs": [
    {
     "name": "stdout",
     "output_type": "stream",
     "text": [
      "The attendees of this meeting are: \n",
      "\n",
      "1. Jefferson Burson\n",
      "2. Dave LaPorte\n",
      "3. Ventz Petkov\n",
      "4. Chris Stubbs\n",
      "5. Logan McCarty\n",
      "6. Gregory Kestin\n"
     ]
    }
   ],
   "source": [
    "myprompt = \"Who is attending this meeting?\"\n",
    "\n",
    "with open('meeting.txt', 'r') as file:\n",
    "    myfile = file.read().replace('\\n', '')\n",
    "\n",
    "completion = openai.ChatCompletion.create(\n",
    "  model=\"gpt-3.5-turbo\",\n",
    "  messages=[\n",
    " {\"role\": \"system\", \"content\" : \"You are a helpful assistant\"},\n",
    " {\"role\": \"assistant\", \"content\" : myfile},\n",
    " {\"role\": \"user\", \"content\" : myprompt},\n",
    "  ]\n",
    ")\n",
    "print(completion.choices[0].message.content)"
   ]
  },
  {
   "attachments": {},
   "cell_type": "markdown",
   "metadata": {},
   "source": [
    "# Problems with Truthiness in ChatGPT"
   ]
  },
  {
   "cell_type": "code",
   "execution_count": 48,
   "metadata": {},
   "outputs": [
    {
     "name": "stdout",
     "output_type": "stream",
     "text": [
      "The five largest impact craters on the Moon, sorted by diameter, are:\n",
      "\n",
      "1. South Pole-Aitken Basin - 2,500 km\n",
      "2. Imbrium Basin - 1,100 km\n",
      "3. Serenitatis Basin - 960 km\n",
      "4. Crisium Basin - 740 km\n",
      "5. Nectaris Basin - 710 km\n"
     ]
    }
   ],
   "source": [
    "myprompt = \"what are the five largest impact craters of the Moon are, sorted by diameter?\"\n",
    "\n",
    "completion = openai.ChatCompletion.create(\n",
    "  model=\"gpt-3.5-turbo\",\n",
    "  messages=[\n",
    " {\"role\": \"system\", \"content\" : \"You are a laconic assistant\"},\n",
    " {\"role\": \"user\", \"content\": myprompt}\n",
    "  ]\n",
    ")\n",
    "\n",
    "print(completion.choices[0].message.content)"
   ]
  },
  {
   "attachments": {},
   "cell_type": "markdown",
   "metadata": {},
   "source": [
    "Problematic answer. \n",
    "\n",
    "The IAU and USGS don't recognize basin an official lunar geologic feature, let alone include any of these as official impact craters in the Planetary Database.\n",
    "\n",
    "Let's try again ..."
   ]
  },
  {
   "cell_type": "code",
   "execution_count": 53,
   "metadata": {},
   "outputs": [
    {
     "name": "stdout",
     "output_type": "stream",
     "text": [
      "1. Copernicus - 93 km diameter\n",
      "2. Kepler - 32 km diameter\n",
      "3. Grimaldi - 171 km diameter\n",
      "4. Langrenus - 132 km diameter\n",
      "5. Tycho - 85 km diameter\n"
     ]
    }
   ],
   "source": [
    "myprompt = \"What are the five largest impact craters of the Moon are, sorted by diameter? Do not include any basins in your reply\"\n",
    "\n",
    "completion = openai.ChatCompletion.create(\n",
    "  model=\"gpt-3.5-turbo\",\n",
    "  messages=[\n",
    " {\"role\": \"system\", \"content\" : \"You are a laconic assistant\"},\n",
    " {\"role\": \"user\", \"content\": myprompt}\n",
    "  ]\n",
    ")\n",
    "\n",
    "print(completion.choices[0].message.content)"
   ]
  },
  {
   "attachments": {},
   "cell_type": "markdown",
   "metadata": {},
   "source": [
    "This answer is a mess. \n",
    "\n",
    "It changes everytime you run the query. It's not actually sorted by diameter. Several of the values of diameter are incorrect ...\n",
    "\n",
    "... and these aren't even the five largest craters ...\n",
    "\n",
    "From the USGS Planetology Database:\n",
    "\n",
    " ![Screenshot from USGS CSV](USGS-Crater-Image.png)\n",
    "\n",
    " Let's try one more time, using a different query approach."
   ]
  },
  {
   "cell_type": "code",
   "execution_count": 68,
   "metadata": {},
   "outputs": [
    {
     "name": "stdout",
     "output_type": "stream",
     "text": [
      "Here are the five largest craters on the Moon, sorted by diameter:\n",
      "\n",
      "1. Bailly - 302 km (187 miles) in diameter\n",
      "2. Schickard - 227 km (141 miles) in diameter\n",
      "3. South Pole-Aitken - 2222 km (1380 miles) in diameter\n",
      "4. Clavius - 225 km (140 miles) in diameter\n",
      "5. Humboldtianum - 207 km (129 miles) in diameter\n"
     ]
    }
   ],
   "source": [
    "myprompt = \"What are the five largest geologic features on the Moon, sorted by diameter? Only include craters, but not basins, in your response.\"\n",
    "\n",
    "completion = openai.ChatCompletion.create(\n",
    "  model=\"gpt-3.5-turbo\",\n",
    "  messages=[\n",
    " {\"role\": \"system\", \"content\" : \"You are a lunar scientist\"},\n",
    " {\"role\": \"user\", \"content\": myprompt}\n",
    "  ]\n",
    ")\n",
    "\n",
    "print(completion.choices[0].message.content)"
   ]
  },
  {
   "attachments": {},
   "cell_type": "markdown",
   "metadata": {},
   "source": [
    "You're hopeless, GPT-3.5.\n",
    "\n",
    "Let's go to the web and try a query of GPT-4\n",
    "\n",
    "![Screenshot from USGS CSV](GPT-4-Crater-Reply.png)\n",
    "\n"
   ]
  },
  {
   "attachments": {},
   "cell_type": "markdown",
   "metadata": {},
   "source": [
    "GPT-4 produced an answer that's fairly similar to my last prompt to GPT-3.5\n",
    "\n",
    "Let's now turn on the Wolfram-Alpha Plugin with GPT-4 and see if we get any better results.\n",
    "\n"
   ]
  },
  {
   "cell_type": "code",
   "execution_count": 22,
   "metadata": {},
   "outputs": [
    {
     "name": "stdout",
     "output_type": "stream",
     "text": [
      "1. South Pole-Aitken Basin: The largest known impact crater on the Moon, with a diameter of approximately 2,500 kilometers.\n",
      "\n",
      "2. Imbrium Basin: The second largest crater on the Moon, with a diameter of approximately 1,100 kilometers.\n",
      "\n",
      "3. Serenitatis Basin: The third largest crater on the Moon, with a diameter of approximately 1,000 kilometers.\n",
      "\n",
      "4. Crisium Basin: The fourth largest crater on the Moon, with a diameter of approximately 800 kilometers.\n",
      "\n",
      "5. Nectaris Basin: The fifth largest crater on the Moon, with a diameter of approximately 700 kilometers.\n"
     ]
    }
   ],
   "source": [
    "myprompt = \"produce a list of the 5 largest crater on the moon, sorted by diameter. Only include answers that have the word crater in its name.\"\n",
    "\n",
    "completion = openai.ChatCompletion.create(\n",
    "  model=\"gpt-3.5-turbo\",\n",
    "  messages=[\n",
    " {\"role\": \"system\", \"content\" : \"You are a lunar scientist\"},\n",
    " {\"role\": \"user\", \"content\": myprompt}\n",
    "  ]\n",
    ")\n",
    "\n",
    "print(completion.choices[0].message.content)"
   ]
  },
  {
   "attachments": {},
   "cell_type": "markdown",
   "metadata": {},
   "source": [
    "# Let's try it a different way"
   ]
  },
  {
   "cell_type": "code",
   "execution_count": 54,
   "metadata": {},
   "outputs": [
    {
     "name": "stdout",
     "output_type": "stream",
     "text": [
      "1. Mare Imbrium (diameter of approximately 1,145 miles)\n",
      "2. Mare Serenitatis (diameter of approximately 674 miles)\n",
      "3. Mare Nectaris (diameter of approximately 338 miles)\n",
      "4. Mare Tranquillitatis (diameter of approximately 347 miles)\n",
      "5. Mare Fecunditatis (diameter of approximately 359 miles)\n"
     ]
    }
   ],
   "source": [
    "myprompt = \"What are the top five geologic features of the Moon are, sorted by diameter?\"\n",
    "\n",
    "completion = openai.ChatCompletion.create(\n",
    "  model=\"gpt-3.5-turbo\",\n",
    "  messages=[\n",
    " {\"role\": \"system\", \"content\" : \"You are a laconic assistant\"},\n",
    " {\"role\": \"user\", \"content\": myprompt}\n",
    "  ]\n",
    ")\n",
    "\n",
    "print(completion.choices[0].message.content)"
   ]
  },
  {
   "cell_type": "code",
   "execution_count": 41,
   "metadata": {},
   "outputs": [
    {
     "name": "stdout",
     "output_type": "stream",
     "text": [
      "The fourth largest crater diameter is Lorentz with a diameter of 378.42 km.\n"
     ]
    }
   ],
   "source": [
    "myprompt = \"From the data that has been provided to you, which crater has the fourth largest diameter?\"\n",
    "\n",
    "with open('Craters.csv', 'r') as file:\n",
    "    mystory = file.read().replace('\\n', '')\n",
    "\n",
    "completion = openai.ChatCompletion.create(\n",
    "  model=\"gpt-3.5-turbo\",\n",
    "  messages=[\n",
    " {\"role\": \"system\", \"content\" : \"You are a helpful assistant\"},\n",
    " {\"role\": \"assistant\", \"content\" : mystory},\n",
    " {\"role\": \"user\", \"content\" : myprompt},\n",
    "  ]\n",
    ")\n",
    "print(completion.choices[0].message.content)"
   ]
  }
 ],
 "metadata": {
  "kernelspec": {
   "display_name": "Python 3",
   "language": "python",
   "name": "python3"
  },
  "language_info": {
   "codemirror_mode": {
    "name": "ipython",
    "version": 3
   },
   "file_extension": ".py",
   "mimetype": "text/x-python",
   "name": "python",
   "nbconvert_exporter": "python",
   "pygments_lexer": "ipython3",
   "version": "3.11.2"
  },
  "orig_nbformat": 4
 },
 "nbformat": 4,
 "nbformat_minor": 2
}
