{
 "cells": [
  {
   "attachments": {},
   "cell_type": "markdown",
   "metadata": {},
   "source": [
    "# Initiate API Key\n"
   ]
  },
  {
   "cell_type": "code",
   "execution_count": 14,
   "metadata": {},
   "outputs": [],
   "source": [
    "import openai\n",
    "import os\n",
    "\n",
    "%load_ext dotenv\n",
    "# %reload_ext dotenv\n",
    "%dotenv\n",
    "\n",
    "openai.api_key = os.environ.get(\"API_TOKEN\")"
   ]
  },
  {
   "attachments": {},
   "cell_type": "markdown",
   "metadata": {},
   "source": [
    "## Summarize a public website"
   ]
  },
  {
   "cell_type": "code",
   "execution_count": 9,
   "metadata": {},
   "outputs": [
    {
     "name": "stdout",
     "output_type": "stream",
     "text": [
      "The story is about two friends, Jefferson and Dave. Jefferson is a wealthy businessman who feels unfulfilled in life, while Dave is a happy-go-lucky musician living a modest life. Jefferson, jealous of Dave's carefree life, asks him for advice. Dave suggests that Jefferson take a year off to travel the world and find purpose in life. Initially hesitant, Jefferson eventually takes Dave's advice and embarks on a journey of self-discovery, learning about different cultures and gaining a new perspective on life. In the end, Jefferson realizes that true happiness cannot be found in wealth and material possessions, but in living a satisfying and purposeful life. He credits Dave for helping him find his way and vows to live a more fulfilling life going forward.\n"
     ]
    }
   ],
   "source": [
    "myprompt = \"TLDR https://7robots.notion.site/A-story-about-Jefferson-and-Dave-b440a6f066544f56b300273d8743895d\"\n",
    "\n",
    "completion = openai.ChatCompletion.create(\n",
    "  model=\"gpt-3.5-turbo\",\n",
    "  messages=[\n",
    " {\"role\": \"system\", \"content\" : \"You are a helpful assistant\"},\n",
    " {\"role\": \"user\", \"content\": myprompt}\n",
    "  ]\n",
    ")\n",
    "\n",
    "print(completion.choices[0].message.content)"
   ]
  },
  {
   "attachments": {},
   "cell_type": "markdown",
   "metadata": {},
   "source": [
    "## The website page just contains:\n",
    "\n",
    "# A story about Jefferson and Dave\n",
    "\n",
    "This is a story of Jefferson and Dave playing around with ChatGPT.\n",
    "\n",
    "Jefferson was able to get a story summarized.\n",
    "\n",
    "Dave was not successful because he is Dave.\n",
    "\n",
    "This goes to prove that ChatGPT produces variable response."
   ]
  }
 ],
 "metadata": {
  "kernelspec": {
   "display_name": "Python 3",
   "language": "python",
   "name": "python3"
  },
  "language_info": {
   "codemirror_mode": {
    "name": "ipython",
    "version": 3
   },
   "file_extension": ".py",
   "mimetype": "text/x-python",
   "name": "python",
   "nbconvert_exporter": "python",
   "pygments_lexer": "ipython3",
   "version": "3.11.2"
  },
  "orig_nbformat": 4,
  "vscode": {
   "interpreter": {
    "hash": "31f2aee4e71d21fbe5cf8b01ff0e069b9275f58929596ceb00d14d90e3e16cd6"
   }
  }
 },
 "nbformat": 4,
 "nbformat_minor": 2
}
