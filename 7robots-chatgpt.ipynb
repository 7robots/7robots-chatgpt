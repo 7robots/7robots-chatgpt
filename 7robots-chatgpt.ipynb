{
 "cells": [
  {
   "attachments": {},
   "cell_type": "markdown",
   "metadata": {},
   "source": [
    "# Initiate API Key\n"
   ]
  },
  {
   "cell_type": "code",
   "execution_count": null,
   "metadata": {},
   "outputs": [],
   "source": [
    "import openai\n",
    "import os\n",
    "\n",
    "%load_ext dotenv\n",
    "%dotenv\n",
    "openai.api_key = os.environ.get(\"API_TOKEN\")"
   ]
  },
  {
   "attachments": {},
   "cell_type": "markdown",
   "metadata": {},
   "source": [
    "## Prompt with GPT 3.0 Text Completion"
   ]
  },
  {
   "cell_type": "code",
   "execution_count": 119,
   "metadata": {},
   "outputs": [
    {
     "name": "stdout",
     "output_type": "stream",
     "text": [
      "Enterprise Architecture (EA) is a valuable tool for universities in order to help them achieve their strategic objectives. EA provides a framework to document, analyze, and manage the university's technology and business processes, and provides a common understanding of the university's IT structure. It also enables the university to identify opportunities for improvement, and develop an efficient and effective IT infrastructure. EA can help universities reduce costs, improve services, and increase agility. Additionally, EA can be used to align the university's IT strategy with its overall goals and objectives. Finally, EA can provide the university with a comprehensive view of how its IT assets, processes, and people are integrated and related, enabling them to make informed decisions.\n"
     ]
    }
   ],
   "source": [
    "prompt = \"describe the value of Enterprise Architecture to a university\"\n",
    "\n",
    "response = openai.Completion.create(\n",
    "    engine=\"text-davinci-003\",\n",
    "    prompt=prompt,\n",
    "    max_tokens=200,\n",
    "    n=1,\n",
    "    stop=None,\n",
    "    temperature=0.7,\n",
    ")\n",
    "\n",
    "message = response.choices[0].text.strip()\n",
    "print(message)"
   ]
  },
  {
   "attachments": {},
   "cell_type": "markdown",
   "metadata": {},
   "source": [
    "## Basic Text Prompt with ChatGPT 3.5 Turbo"
   ]
  },
  {
   "cell_type": "code",
   "execution_count": 118,
   "metadata": {},
   "outputs": [
    {
     "name": "stdout",
     "output_type": "stream",
     "text": [
      "Sure thing. Here are the top five craters of the Moon sorted by diameter:\n",
      "\n",
      "1. South Pole-Aitken Basin - with a diameter of approximately 2,500 km, it is the largest and oldest basin on the Moon.\n",
      "2. Imbrium Basin - with a diameter of approximately 1,100 km, it is the second-largest basin on the Moon and contains numerous smaller craters within its boundaries.\n",
      "3. Serenitatis Basin - with a diameter of approximately 950 km, it is the third-largest basin on the Moon and is characterized by its dark mare material.\n",
      "4. Crisium Basin - with a diameter of approximately 800 km, it is a large impact crater known for its central elevation and dark floor.\n",
      "5. Nectaris Basin - with a diameter of approximately 400 km, it is a relatively young and well-preserved impact crater on the Moon's southern hemisphere.\n"
     ]
    }
   ],
   "source": [
    "completion = openai.ChatCompletion.create(\n",
    "  model=\"gpt-3.5-turbo\",\n",
    "  messages=[\n",
    "    {\"role\": \"user\", \"content\": \"In the voice of a laconic assistant, what are the top five craters of the Moon, sorted by diameter?\"}\n",
    "  ]\n",
    ")\n",
    "\n",
    "print(completion.choices[0].message.content)"
   ]
  },
  {
   "attachments": {},
   "cell_type": "markdown",
   "metadata": {},
   "source": [
    "## Basic Chat Prompt with ChatGPT 3.5 Turbo"
   ]
  },
  {
   "cell_type": "code",
   "execution_count": 117,
   "metadata": {},
   "outputs": [
    {
     "name": "stdout",
     "output_type": "stream",
     "text": [
      "As a virtual AI language model, I can do this task for you. \n",
      "\n",
      "The Moon is a fascinating object with numerous craters. As a geologist, I have sorted the top five craters on the Moon by their diameter:\n",
      "\n",
      "1. South Pole-Aitken Basin: With a diameter of around 2,500 km, this is the largest and oldest known crater on the Moon.\n",
      "\n",
      "2. Imbrium Basin: This basin has a diameter of about 1,100 km, making it the second largest impact structure on the Moon.\n",
      "\n",
      "3. Serenitatis Basin: With a diameter of approximately 870 km, this basin is one of the larger lunar impact features.\n",
      "\n",
      "4. Crisium Basin: This circular basin is located on the Moon's near side and has a diameter of around 740 km.\n",
      "\n",
      "5. Humorum Basin: This basin is the fifth largest impact crater on the Moon and has a diameter of about 620 km.\n",
      "\n",
      "These craters offer a wealth of information about the Moon's formation and evolution. By studying them, we can better understand the history of our nearest celestial neighbor.\n"
     ]
    }
   ],
   "source": [
    "completion = openai.ChatCompletion.create(\n",
    "  model=\"gpt-3.5-turbo\",\n",
    "  messages=[\n",
    "    {\"role\": \"user\", \"content\": \"In the voice of a geologist, tell the world what the top five craters of the Moon are, sorted by diameter\"}\n",
    "  ]\n",
    ")\n",
    "\n",
    "print(completion.choices[0].message.content)"
   ]
  },
  {
   "attachments": {},
   "cell_type": "markdown",
   "metadata": {},
   "source": [
    "## ChatGPT 3.5 Turbo - Using the system role to change the voice"
   ]
  },
  {
   "cell_type": "code",
   "execution_count": 115,
   "metadata": {},
   "outputs": [
    {
     "name": "stdout",
     "output_type": "stream",
     "text": [
      "Here are the top five craters of the Moon sorted by diameter: \n",
      "\n",
      "1. South Pole-Aitken Basin - with a diameter of roughly 2,500 km, this is the moon's largest and oldest impact basin \n",
      "2. Imbrium Basin - with a diameter of roughly 1,145 km, this large, circular basin makes up one of the \"seas\" (Mare) on the surface of the Moon \n",
      "3. Serenitatis Basin - with a diameter of roughly 800 km, this basin is another one of the \"seas\" on the moon's surface \n",
      "4. Cruger - with a diameter of roughly 159 km, this is one of the lunar craters named for a person, in this case American astronomer Michael Cruger \n",
      "5. Tycho - with a diameter of roughly 85 km, this is one of the most recognizable craters on the Moon with its bright ray system radiating outwards.\n"
     ]
    }
   ],
   "source": [
    "completion = openai.ChatCompletion.create(\n",
    "  model=\"gpt-3.5-turbo\",\n",
    "  messages=[\n",
    " {\"role\": \"system\", \"content\" : \"You are a laconic assistant\"},\n",
    " {\"role\": \"user\", \"content\": \"What are the top five craters of the Moon are, sorted by diameter?\"}\n",
    "  ]\n",
    ")\n",
    "\n",
    "print(completion.choices[0].message.content)"
   ]
  },
  {
   "attachments": {},
   "cell_type": "markdown",
   "metadata": {},
   "source": [
    "## ChatGPT 3.5 Turbo - Feeding ChatGPT additional information via the assistant role"
   ]
  },
  {
   "cell_type": "code",
   "execution_count": 114,
   "metadata": {},
   "outputs": [
    {
     "name": "stdout",
     "output_type": "stream",
     "text": [
      "I'm sorry, but I cannot find any reliable information about a person named Jefferson Burson who is a robot at Harvard University. It is possible that there may be a research project or development underway in which a robot named Jefferson Burson is being used, but without further context or information, it is difficult to say for sure.\n"
     ]
    }
   ],
   "source": [
    "completion = openai.ChatCompletion.create(\n",
    "  model=\"gpt-3.5-turbo\",\n",
    "  messages=[\n",
    " {\"role\": \"system\", \"content\" : \"You are a laconic assistant\"},\n",
    " {\"role\": \"assistant\", \"content\" : \"Jefferson Burson is a robot in Harvard\"},\n",
    " {\"role\": \"user\", \"content\" : \"Is Jefferson Burson a robot?\"},\n",
    "  ]\n",
    ")\n",
    "print(completion.choices[0].message.content)"
   ]
  },
  {
   "attachments": {},
   "cell_type": "markdown",
   "metadata": {},
   "source": [
    "## Uploading a file to ChatGPT 3.5"
   ]
  },
  {
   "cell_type": "code",
   "execution_count": 113,
   "metadata": {},
   "outputs": [
    {
     "name": "stdout",
     "output_type": "stream",
     "text": [
      "Jefferson is an Enterprise Architect. His job involves designing and implementing technology solutions that align with an organization's business goals and objectives. He works with various stakeholders to ensure that technology decisions are made based on the company's needs and that they fit within the overall IT strategy. Jefferson is also responsible for identifying areas where technology can improve business processes and drive innovation.\n"
     ]
    }
   ],
   "source": [
    "with open('GAISTEMP.txt', 'r') as file:\n",
    "    myfile = file.read().replace('\\n', '')\n",
    "\n",
    "completion = openai.ChatCompletion.create(\n",
    "  model=\"gpt-3.5-turbo\",\n",
    "  messages=[\n",
    " {\"role\": \"system\", \"content\" : \"You are a helpful assistant\"},\n",
    " {\"role\": \"assistant\", \"content\" : myfile},\n",
    " {\"role\": \"user\", \"content\" : \"What is jefferson's job?\"},\n",
    "  ]\n",
    ")\n",
    "print(completion.choices[0].message.content)"
   ]
  },
  {
   "attachments": {},
   "cell_type": "markdown",
   "metadata": {},
   "source": [
    "## Summarizing a file with ChatGPT 3.5"
   ]
  },
  {
   "cell_type": "code",
   "execution_count": 108,
   "metadata": {},
   "outputs": [
    {
     "name": "stdout",
     "output_type": "stream",
     "text": [
      "In Greek mythology, the Minotaur was a creature with the body of a man and the head of a bull, born from the union of a queen and a bull sent by the god Poseidon. King Minos imprisoned the beast in a labyrinth that he had built, feeding it with human sacrifices from the city of Athens. The hero Theseus decided to slay the Minotaur and ended up relying on the help of the king's daughter, who gave him a ball of yarn to use as a guide and a sword to kill the beast. After killing the Minotaur, Theseus and the princess escaped from the labyrinth and set off to Athens. However, in this retelling, the story takes a different turn when the hero is abandoned by his companions in the maze and ends up wearing the Minotaur's head as a mask, becoming the creature itself and preparing to survive and seek vengeance in the maze.\n"
     ]
    }
   ],
   "source": [
    "with open('story.txt', 'r') as file:\n",
    "    mystory = file.read().replace('\\n', '')\n",
    "\n",
    "completion = openai.ChatCompletion.create(\n",
    "  model=\"gpt-3.5-turbo\",\n",
    "  messages=[\n",
    " {\"role\": \"system\", \"content\" : \"You are a helpful assistant\"},\n",
    " {\"role\": \"assistant\", \"content\" : mystory},\n",
    " {\"role\": \"user\", \"content\" : \"Summarize the story of the minotaur\"},\n",
    "  ]\n",
    ")\n",
    "print(completion.choices[0].message.content)"
   ]
  }
 ],
 "metadata": {
  "kernelspec": {
   "display_name": "Python 3",
   "language": "python",
   "name": "python3"
  },
  "language_info": {
   "codemirror_mode": {
    "name": "ipython",
    "version": 3
   },
   "file_extension": ".py",
   "mimetype": "text/x-python",
   "name": "python",
   "nbconvert_exporter": "python",
   "pygments_lexer": "ipython3",
   "version": "3.11.2"
  },
  "orig_nbformat": 4,
  "vscode": {
   "interpreter": {
    "hash": "31f2aee4e71d21fbe5cf8b01ff0e069b9275f58929596ceb00d14d90e3e16cd6"
   }
  }
 },
 "nbformat": 4,
 "nbformat_minor": 2
}
