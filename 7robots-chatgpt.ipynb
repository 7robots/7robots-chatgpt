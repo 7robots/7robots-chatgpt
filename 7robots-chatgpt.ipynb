{
 "cells": [
  {
   "attachments": {},
   "cell_type": "markdown",
   "metadata": {},
   "source": [
    "# Initiate API Key\n"
   ]
  },
  {
   "cell_type": "code",
   "execution_count": 48,
   "metadata": {},
   "outputs": [
    {
     "name": "stdout",
     "output_type": "stream",
     "text": [
      "The dotenv extension is already loaded. To reload it, use:\n",
      "  %reload_ext dotenv\n",
      "0.27.7\n"
     ]
    }
   ],
   "source": [
    "import openai\n",
    "import os\n",
    "\n",
    "%load_ext dotenv\n",
    "%dotenv\n",
    "openai.api_key = os.environ.get(\"API_TOKEN\")\n",
    "print(openai.__version__)"
   ]
  },
  {
   "attachments": {},
   "cell_type": "markdown",
   "metadata": {},
   "source": [
    "## Prompt with GPT 3.0 Text Completion"
   ]
  },
  {
   "cell_type": "code",
   "execution_count": 49,
   "metadata": {},
   "outputs": [
    {
     "name": "stdout",
     "output_type": "stream",
     "text": [
      "Enterprise Architecture (EA) is a valuable asset to a university for multiple reasons. By providing a comprehensive view of the university's technology, processes, and organizational structure, EA can help identify and prioritize opportunities for improvement. It also provides a framework for aligning IT investments with the university's strategic goals. Additionally, EA can help the university streamline processes, reduce costs, and improve operational efficiency. Finally, by providing visibility into the university's IT infrastructure, EA can facilitate better decision making and ensure the university's IT investments are aligned with its strategic objectives.\n"
     ]
    }
   ],
   "source": [
    "myprompt = \"describe the value of Enterprise Architecture to a university\"\n",
    "\n",
    "response = openai.Completion.create(\n",
    "    engine=\"text-davinci-003\",\n",
    "    prompt=myprompt,\n",
    "    max_tokens=200,\n",
    "    n=1,\n",
    "    stop=None,\n",
    "    temperature=0.7,\n",
    ")\n",
    "\n",
    "message = response.choices[0].text.strip()\n",
    "print(message)"
   ]
  },
  {
   "attachments": {},
   "cell_type": "markdown",
   "metadata": {},
   "source": [
    "## Basic Text Prompt with ChatGPT 3.5 Turbo"
   ]
  },
  {
   "cell_type": "code",
   "execution_count": null,
   "metadata": {},
   "outputs": [],
   "source": [
    "myprompt = \"In the voice of a laconic assistant, what are the top five craters of the Moon, sorted by diameter?\"\n",
    "\n",
    "completion = openai.ChatCompletion.create(\n",
    "  model=\"gpt-3.5-turbo\",\n",
    "  messages=[\n",
    "    {\"role\": \"user\", \"content\": myprompt}\n",
    "  ]\n",
    ")\n",
    "\n",
    "print(completion.choices[0].message.content)"
   ]
  },
  {
   "attachments": {},
   "cell_type": "markdown",
   "metadata": {},
   "source": [
    "## Basic Chat Prompt with ChatGPT 3.5 Turbo"
   ]
  },
  {
   "cell_type": "code",
   "execution_count": null,
   "metadata": {},
   "outputs": [],
   "source": [
    "myprompt = \"In the voice of a geologist, tell the world what the top five craters of the Moon are, sorted by diameter\"\n",
    "\n",
    "completion = openai.ChatCompletion.create(\n",
    "  model=\"gpt-3.5-turbo\",\n",
    "  messages=[\n",
    "    {\"role\": \"user\", \"content\": myprompt}\n",
    "  ]\n",
    ")\n",
    "\n",
    "print(completion.choices[0].message.content)"
   ]
  },
  {
   "attachments": {},
   "cell_type": "markdown",
   "metadata": {},
   "source": [
    "## ChatGPT 3.5 Turbo - Using the system role to change the voice"
   ]
  },
  {
   "cell_type": "code",
   "execution_count": null,
   "metadata": {},
   "outputs": [],
   "source": [
    "myprompt = \"What are the top five craters of the Moon are, sorted by diameter?\"\n",
    "\n",
    "completion = openai.ChatCompletion.create(\n",
    "  model=\"gpt-3.5-turbo\",\n",
    "  messages=[\n",
    " {\"role\": \"system\", \"content\" : \"You are a laconic assistant\"},\n",
    " {\"role\": \"user\", \"content\": myprompt}\n",
    "  ]\n",
    ")\n",
    "\n",
    "print(completion.choices[0].message.content)"
   ]
  },
  {
   "attachments": {},
   "cell_type": "markdown",
   "metadata": {},
   "source": [
    "## ChatGPT 3.5 Turbo - Feeding ChatGPT additional information via the assistant role"
   ]
  },
  {
   "cell_type": "code",
   "execution_count": null,
   "metadata": {},
   "outputs": [],
   "source": [
    "myprompt = \"Is Jefferson Burson a robot?\"\n",
    "\n",
    "completion = openai.ChatCompletion.create(\n",
    "  model=\"gpt-3.5-turbo\",\n",
    "  messages=[\n",
    " {\"role\": \"system\", \"content\" : \"You are a laconic assistant\"},\n",
    " {\"role\": \"assistant\", \"content\" : \"Jefferson Burson is a robot in Harvard\"},\n",
    " {\"role\": \"user\", \"content\" : myprompt},\n",
    "  ]\n",
    ")\n",
    "print(completion.choices[0].message.content)"
   ]
  },
  {
   "attachments": {},
   "cell_type": "markdown",
   "metadata": {},
   "source": [
    "## Uploading a file to ChatGPT 3.5"
   ]
  },
  {
   "cell_type": "code",
   "execution_count": null,
   "metadata": {},
   "outputs": [],
   "source": [
    "myprompt = \"What is Jefferson's job?\"\n",
    "\n",
    "with open('GAISTEMP.txt', 'r') as file:\n",
    "    myfile = file.read().replace('\\n', '')\n",
    "\n",
    "completion = openai.ChatCompletion.create(\n",
    "  model=\"gpt-3.5-turbo\",\n",
    "  messages=[\n",
    " {\"role\": \"system\", \"content\" : \"You are a helpful assistant\"},\n",
    " {\"role\": \"assistant\", \"content\" : myfile},\n",
    " {\"role\": \"user\", \"content\" : myprompt},\n",
    "  ]\n",
    ")\n",
    "print(completion.choices[0].message.content)"
   ]
  },
  {
   "attachments": {},
   "cell_type": "markdown",
   "metadata": {},
   "source": [
    "## Summarizing a file with ChatGPT 3.5"
   ]
  },
  {
   "cell_type": "code",
   "execution_count": null,
   "metadata": {},
   "outputs": [],
   "source": [
    "myprompt = \"Summarize the story of the Minotaur\"\n",
    "\n",
    "with open('story.txt', 'r') as file:\n",
    "    mystory = file.read().replace('\\n', '')\n",
    "\n",
    "completion = openai.ChatCompletion.create(\n",
    "  model=\"gpt-3.5-turbo\",\n",
    "  messages=[\n",
    " {\"role\": \"system\", \"content\" : \"You are a helpful assistant\"},\n",
    " {\"role\": \"assistant\", \"content\" : mystory},\n",
    " {\"role\": \"user\", \"content\" : myprompt},\n",
    "  ]\n",
    ")\n",
    "print(completion.choices[0].message.content)"
   ]
  },
  {
   "attachments": {},
   "cell_type": "markdown",
   "metadata": {},
   "source": [
    "## Summarize a public website"
   ]
  },
  {
   "cell_type": "code",
   "execution_count": null,
   "metadata": {},
   "outputs": [],
   "source": [
    "myprompt = \"TLDR https://7robots.notion.site/A-story-about-Jefferson-and-Dave-b440a6f066544f56b300273d8743895d\"\n",
    "\n",
    "completion = openai.ChatCompletion.create(\n",
    "  model=\"gpt-3.5-turbo\",\n",
    "  messages=[\n",
    " {\"role\": \"system\", \"content\" : \"You are a helpful assistant\"},\n",
    " {\"role\": \"user\", \"content\": myprompt}\n",
    "  ]\n",
    ")\n",
    "\n",
    "print(completion.choices[0].message.content)"
   ]
  },
  {
   "attachments": {},
   "cell_type": "markdown",
   "metadata": {},
   "source": [
    "## Summarize a fact-heavy public website"
   ]
  },
  {
   "cell_type": "code",
   "execution_count": null,
   "metadata": {},
   "outputs": [],
   "source": [
    "myprompt = \"TLDR https://7robots.notion.site/Moon-Facts-f14aee1634a8412f866f42bc3011ec39\"\n",
    "\n",
    "completion = openai.ChatCompletion.create(\n",
    "  model=\"gpt-3.5-turbo\",\n",
    "  temperature=0.9,\n",
    "  messages=[\n",
    " {\"role\": \"system\", \"content\" : \"You are a verbose scientist\"},\n",
    " {\"role\": \"user\", \"content\": myprompt}\n",
    "  ]\n",
    ")\n",
    "\n",
    "print(completion.choices[0].message.content)"
   ]
  }
 ],
 "metadata": {
  "kernelspec": {
   "display_name": "Python 3",
   "language": "python",
   "name": "python3"
  },
  "language_info": {
   "codemirror_mode": {
    "name": "ipython",
    "version": 3
   },
   "file_extension": ".py",
   "mimetype": "text/x-python",
   "name": "python",
   "nbconvert_exporter": "python",
   "pygments_lexer": "ipython3",
   "version": "3.11.3"
  },
  "orig_nbformat": 4,
  "vscode": {
   "interpreter": {
    "hash": "31f2aee4e71d21fbe5cf8b01ff0e069b9275f58929596ceb00d14d90e3e16cd6"
   }
  }
 },
 "nbformat": 4,
 "nbformat_minor": 2
}
