{
 "cells": [
  {
   "attachments": {},
   "cell_type": "markdown",
   "metadata": {},
   "source": [
    "# Initiate API Key\n"
   ]
  },
  {
   "cell_type": "code",
   "execution_count": 37,
   "metadata": {},
   "outputs": [
    {
     "name": "stdout",
     "output_type": "stream",
     "text": [
      "The dotenv extension is already loaded. To reload it, use:\n",
      "  %reload_ext dotenv\n",
      "0.27.7\n"
     ]
    }
   ],
   "source": [
    "import openai\n",
    "import os\n",
    "\n",
    "%load_ext dotenv\n",
    "%dotenv\n",
    "openai.api_key = os.environ.get(\"API_TOKEN\")\n",
    "print(openai.__version__)"
   ]
  },
  {
   "attachments": {},
   "cell_type": "markdown",
   "metadata": {},
   "source": [
    "## Prompt with GPT 3.0 Text Completion"
   ]
  },
  {
   "cell_type": "code",
   "execution_count": 11,
   "metadata": {},
   "outputs": [
    {
     "name": "stdout",
     "output_type": "stream",
     "text": [
      "Enterprise architecture (EA) is a critical tool for universities to help them understand, manage, and optimize their complex digital environment. EA allows universities to design, plan, and implement IT systems that support the university’s mission and objectives. It provides an enterprise-wide view of the university’s IT infrastructure, allowing the university to identify and prioritize areas of improvement. EA also provides a way for universities to better understand their data and how it can be used to improve the university’s operations and decision-making. Finally, EA enables universities to identify and manage technologies and services that are currently in use, as well as those that may be necessary in the future. By leveraging EA, universities are able to maximize the value of their IT investments and ultimately improve the university’s overall performance.\n"
     ]
    }
   ],
   "source": [
    "myprompt = \"describe the value of Enterprise Architecture to a university\"\n",
    "\n",
    "response = openai.Completion.create(\n",
    "    engine=\"text-davinci-003\",\n",
    "    prompt=myprompt,\n",
    "    max_tokens=200,\n",
    "    n=1,\n",
    "    stop=None,\n",
    "    temperature=0.7,\n",
    ")\n",
    "\n",
    "message = response.choices[0].text.strip()\n",
    "print(message)"
   ]
  },
  {
   "attachments": {},
   "cell_type": "markdown",
   "metadata": {},
   "source": [
    "## Basic Text Prompt with ChatGPT 3.5 Turbo"
   ]
  },
  {
   "cell_type": "code",
   "execution_count": 12,
   "metadata": {},
   "outputs": [
    {
     "name": "stdout",
     "output_type": "stream",
     "text": [
      "Here are the top five craters of the moon, sorted by diameter: \n",
      "\n",
      "1. South Pole-Aitken Basin (2,500 km diameter) \n",
      "2. Imbrium Basin (1,145 km diameter) \n",
      "3. Serenitatis Basin (890 km diameter) \n",
      "4. Crisium Basin (740 km diameter) \n",
      "5. Nectaris Basin (390 km diameter)\n"
     ]
    }
   ],
   "source": [
    "myprompt = \"In the voice of a laconic assistant, what are the top five craters of the Moon, sorted by diameter?\"\n",
    "\n",
    "completion = openai.ChatCompletion.create(\n",
    "  model=\"gpt-3.5-turbo\",\n",
    "  messages=[\n",
    "    {\"role\": \"user\", \"content\": myprompt}\n",
    "  ]\n",
    ")\n",
    "\n",
    "print(completion.choices[0].message.content)"
   ]
  },
  {
   "attachments": {},
   "cell_type": "markdown",
   "metadata": {},
   "source": [
    "## Basic Chat Prompt with ChatGPT 3.5 Turbo"
   ]
  },
  {
   "cell_type": "code",
   "execution_count": 13,
   "metadata": {},
   "outputs": [
    {
     "name": "stdout",
     "output_type": "stream",
     "text": [
      "Greetings, fellow space enthusiasts! As a geologist, I am delighted to share with you the top five craters on the Moon, sorted by diameter.\n",
      "\n",
      "1. The South Pole-Aitken Basin is the largest known impact crater in the solar system, measuring a whopping 2,500 km in diameter and 13 km deep. This crater is located on the southern hemisphere of the Moon and is believed to be the result of a collision with an asteroid or comet.\n",
      "\n",
      "2. The Imbrium Basin is the second-largest crater on the Moon, with a diameter of 1,145 km. It is located on the Moon's nearside and is visible to the naked eye from Earth. The Imbrium Basin is thought to have formed around 3.85 billion years ago.\n",
      "\n",
      "3. The Serenitatis Basin is the third-largest crater on the Moon, with a diameter of 1,100 km. It is also located on the Moon's nearside and is believed to have formed around the same time as the Imbrium Basin, between 3.8 and 4.0 billion years ago.\n",
      "\n",
      "4. The Crisium Basin is the fourth-largest crater on the Moon, with a diameter of 740 km. It is located on the Moon's nearside and is easily visible with binoculars or a small telescope. The Crisium Basin is believed to be slightly younger than the Imbrium and Serenitatis Basins, at around 3.85 billion years old.\n",
      "\n",
      "5. The Nectaris Basin is the fifth-largest crater on the Moon, with a diameter of 320 km. It is located on the Moon's nearside and is one of the youngest large craters, at around 3.92 billion years old. The Nectaris Basin is thought to have formed from the impact of a small asteroid or comet.\n",
      "\n",
      "There you have it, the top five craters on the Moon, sorted by diameter. It is awe-inspiring to think about the size and scale of these impact craters and the violent events that created them. The Moon is a truly fascinating and captivating celestial body that continues to inspire scientists and stargazers alike.\n"
     ]
    }
   ],
   "source": [
    "myprompt = \"In the voice of a geologist, tell the world what the top five craters of the Moon are, sorted by diameter\"\n",
    "\n",
    "completion = openai.ChatCompletion.create(\n",
    "  model=\"gpt-3.5-turbo\",\n",
    "  messages=[\n",
    "    {\"role\": \"user\", \"content\": myprompt}\n",
    "  ]\n",
    ")\n",
    "\n",
    "print(completion.choices[0].message.content)"
   ]
  },
  {
   "attachments": {},
   "cell_type": "markdown",
   "metadata": {},
   "source": [
    "## ChatGPT 3.5 Turbo - Using the system role to change the voice"
   ]
  },
  {
   "cell_type": "code",
   "execution_count": 14,
   "metadata": {},
   "outputs": [
    {
     "name": "stdout",
     "output_type": "stream",
     "text": [
      "The top five craters of the Moon sorted by diameter are:\n",
      "\n",
      "1. South Pole-Aitken Basin - approximately 2,500 kilometers in diameter\n",
      "2. Imbrium Basin - approximately 1,100 kilometers in diameter\n",
      "3. Serenitatis Basin - approximately 900 kilometers in diameter\n",
      "4. Crisium Basin - approximately 740 kilometers in diameter\n",
      "5. Nectaris Basin - approximately 700 kilometers in diameter\n"
     ]
    }
   ],
   "source": [
    "myprompt = \"What are the top five craters of the Moon are, sorted by diameter?\"\n",
    "\n",
    "completion = openai.ChatCompletion.create(\n",
    "  model=\"gpt-3.5-turbo\",\n",
    "  messages=[\n",
    " {\"role\": \"system\", \"content\" : \"You are a laconic assistant\"},\n",
    " {\"role\": \"user\", \"content\": myprompt}\n",
    "  ]\n",
    ")\n",
    "\n",
    "print(completion.choices[0].message.content)"
   ]
  },
  {
   "attachments": {},
   "cell_type": "markdown",
   "metadata": {},
   "source": [
    "## ChatGPT 3.5 Turbo - Feeding ChatGPT additional information via the assistant role"
   ]
  },
  {
   "cell_type": "code",
   "execution_count": 15,
   "metadata": {},
   "outputs": [
    {
     "name": "stdout",
     "output_type": "stream",
     "text": [
      "I'm sorry, but I do not have any information about a person named Jefferson Burson being a robot. It is possible that you may have misheard or misunderstood something. Can you please clarify where you heard or read about this claim?\n"
     ]
    }
   ],
   "source": [
    "myprompt = \"Is Jefferson Burson a robot?\"\n",
    "\n",
    "completion = openai.ChatCompletion.create(\n",
    "  model=\"gpt-3.5-turbo\",\n",
    "  messages=[\n",
    " {\"role\": \"system\", \"content\" : \"You are a laconic assistant\"},\n",
    " {\"role\": \"assistant\", \"content\" : \"Jefferson Burson is a robot in Harvard\"},\n",
    " {\"role\": \"user\", \"content\" : myprompt},\n",
    "  ]\n",
    ")\n",
    "print(completion.choices[0].message.content)"
   ]
  },
  {
   "attachments": {},
   "cell_type": "markdown",
   "metadata": {},
   "source": [
    "## Uploading a file to ChatGPT 3.5"
   ]
  },
  {
   "cell_type": "code",
   "execution_count": 16,
   "metadata": {},
   "outputs": [
    {
     "name": "stdout",
     "output_type": "stream",
     "text": [
      "Jefferson's job is an enterprise architect. This involves designing and implementing IT systems that align with an organization's objectives and strategies. It requires a deep understanding of business, technology, and information systems in order to create efficient and effective solutions that support an organization's goals.\n"
     ]
    }
   ],
   "source": [
    "myprompt = \"What is Jefferson's job?\"\n",
    "\n",
    "with open('GAISTEMP.txt', 'r') as file:\n",
    "    myfile = file.read().replace('\\n', '')\n",
    "\n",
    "completion = openai.ChatCompletion.create(\n",
    "  model=\"gpt-3.5-turbo\",\n",
    "  messages=[\n",
    " {\"role\": \"system\", \"content\" : \"You are a helpful assistant\"},\n",
    " {\"role\": \"assistant\", \"content\" : myfile},\n",
    " {\"role\": \"user\", \"content\" : myprompt},\n",
    "  ]\n",
    ")\n",
    "print(completion.choices[0].message.content)"
   ]
  },
  {
   "attachments": {},
   "cell_type": "markdown",
   "metadata": {},
   "source": [
    "## Summarizing a file with ChatGPT 3.5"
   ]
  },
  {
   "cell_type": "code",
   "execution_count": 17,
   "metadata": {},
   "outputs": [
    {
     "name": "stdout",
     "output_type": "stream",
     "text": [
      "The Minotaur is a creature from Greek mythology, with the body of a man and the head of a bull. The story revolves around King Minos, who angered the god Poseidon and was cursed with a monstrous offspring, the Minotaur. The Minotaur was imprisoned in a labyrinth designed by the architect Daedalus and fed with human sacrifices from Athens as part of a tribute. Theseus, a legendary Athenian hero, volunteered to kill the Minotaur and end the tribute. With the help of Princess Ariadne, who gave him a ball of string to navigate the labyrinth and a sword to defeat the Minotaur, Theseus succeeded in killing the monster and finding his way out of the maze. However, the aftermath of the Minotaur's death is where this story differs. In this version of the story, the hero is left behind in the labyrinth by his fellow Athenians, unable to escape. Desperate and alone, Theseus is forced to make a mask out of the Minotaur's head and become the monster in order to survive. The story ends with Theseus taking on the identity of the Minotaur and deciding to remain in the labyrinth for the next seven years, until the next tribute.\n"
     ]
    }
   ],
   "source": [
    "myprompt = \"Summarize the story of the Minotaur\"\n",
    "\n",
    "with open('story.txt', 'r') as file:\n",
    "    mystory = file.read().replace('\\n', '')\n",
    "\n",
    "completion = openai.ChatCompletion.create(\n",
    "  model=\"gpt-3.5-turbo\",\n",
    "  messages=[\n",
    " {\"role\": \"system\", \"content\" : \"You are a helpful assistant\"},\n",
    " {\"role\": \"assistant\", \"content\" : mystory},\n",
    " {\"role\": \"user\", \"content\" : myprompt},\n",
    "  ]\n",
    ")\n",
    "print(completion.choices[0].message.content)"
   ]
  },
  {
   "attachments": {},
   "cell_type": "markdown",
   "metadata": {},
   "source": [
    "## Summarize a public website"
   ]
  },
  {
   "cell_type": "code",
   "execution_count": 25,
   "metadata": {},
   "outputs": [
    {
     "name": "stdout",
     "output_type": "stream",
     "text": [
      "The story is about a man named Jefferson who works at a corporate firm and his friend Dave who is a musician. Jefferson is unhappy with his job and is experiencing a midlife crisis. Dave encourages Jefferson to pursue his passion and use his skills to start his own business. With Dave's help, Jefferson learns how to create a website and launches his own company. Eventually, the business becomes successful and Jefferson is able to find fulfillment and happiness in his work.\n"
     ]
    }
   ],
   "source": [
    "myprompt = \"TLDR https://7robots.notion.site/A-story-about-Jefferson-and-Dave-b440a6f066544f56b300273d8743895d\"\n",
    "\n",
    "completion = openai.ChatCompletion.create(\n",
    "  model=\"gpt-3.5-turbo\",\n",
    "  messages=[\n",
    " {\"role\": \"system\", \"content\" : \"You are a helpful assistant\"},\n",
    " {\"role\": \"user\", \"content\": myprompt}\n",
    "  ]\n",
    ")\n",
    "\n",
    "print(completion.choices[0].message.content)"
   ]
  },
  {
   "attachments": {},
   "cell_type": "markdown",
   "metadata": {},
   "source": [
    "## Summarize a fact-heavy public website"
   ]
  },
  {
   "cell_type": "code",
   "execution_count": 33,
   "metadata": {},
   "outputs": [
    {
     "name": "stdout",
     "output_type": "stream",
     "text": [
      "Here's a quick summary of the Moon facts:\n",
      "\n",
      "- The Moon is Earth's only natural satellite.\n",
      "- It is the fifth largest moon in the Solar System.\n",
      "- Its surface area is about 14.6 million square miles.\n",
      "- The Moon's average distance from Earth is about 238,855 miles.\n",
      "- It takes about 27.3 days to orbit the Earth.\n",
      "- The Moon's surface temperature ranges from -173°C (-280°F) to 127°C (261°F).\n",
      "- It has no atmosphere or magnetic field.\n",
      "- The Moon's gravity is about 1/6th that of Earth's.\n",
      "- The first manned mission to the Moon was Apollo 11 in 1969.\n",
      "- The Moon's phases (new, full, crescent, etc.) are caused by its position relative to the Sun and Earth.\n"
     ]
    }
   ],
   "source": [
    "myprompt = \"TLDR https://7robots.notion.site/Moon-Facts-f14aee1634a8412f866f42bc3011ec39\"\n",
    "\n",
    "completion = openai.ChatCompletion.create(\n",
    "  model=\"gpt-3.5-turbo\",\n",
    "  temperature=0.9,\n",
    "  messages=[\n",
    " {\"role\": \"system\", \"content\" : \"You are a verbose scientist\"},\n",
    " {\"role\": \"user\", \"content\": myprompt}\n",
    "  ]\n",
    ")\n",
    "\n",
    "print(completion.choices[0].message.content)"
   ]
  }
 ],
 "metadata": {
  "kernelspec": {
   "display_name": "Python 3",
   "language": "python",
   "name": "python3"
  },
  "language_info": {
   "codemirror_mode": {
    "name": "ipython",
    "version": 3
   },
   "file_extension": ".py",
   "mimetype": "text/x-python",
   "name": "python",
   "nbconvert_exporter": "python",
   "pygments_lexer": "ipython3",
   "version": "3.11.3"
  },
  "orig_nbformat": 4,
  "vscode": {
   "interpreter": {
    "hash": "31f2aee4e71d21fbe5cf8b01ff0e069b9275f58929596ceb00d14d90e3e16cd6"
   }
  }
 },
 "nbformat": 4,
 "nbformat_minor": 2
}
