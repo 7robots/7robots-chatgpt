{
 "cells": [
  {
   "attachments": {},
   "cell_type": "markdown",
   "metadata": {},
   "source": [
    "# Initiate API Key\n"
   ]
  },
  {
   "cell_type": "code",
   "execution_count": 48,
   "metadata": {},
   "outputs": [
    {
     "name": "stdout",
     "output_type": "stream",
     "text": [
      "The dotenv extension is already loaded. To reload it, use:\n",
      "  %reload_ext dotenv\n"
     ]
    }
   ],
   "source": [
    "import openai\n",
    "import os\n",
    "\n",
    "%load_ext dotenv\n",
    "%dotenv\n",
    "openai.api_key = os.environ.get(\"API_TOKEN\")"
   ]
  },
  {
   "attachments": {},
   "cell_type": "markdown",
   "metadata": {},
   "source": [
    "## Prompt with GPT 3.0 Text Completion"
   ]
  },
  {
   "cell_type": "code",
   "execution_count": 49,
   "metadata": {},
   "outputs": [
    {
     "name": "stdout",
     "output_type": "stream",
     "text": [
      "Enterprise architecture is a valuable tool for universities as it provides a framework for institutions to plan and manage their IT systems. It provides a holistic view of the university’s IT environment, from the overall strategy and objectives, down to the details of the specific technology platforms and applications used. Enterprise architecture can help identify areas of IT redundancy, inefficiency, and non-compliance, and provide a roadmap for improvement. It can help the university identify cost-saving opportunities by consolidating IT systems, and provide a framework for the development and implementation of new technology solutions. Additionally, enterprise architecture can help the university ensure that its IT systems are in compliance with legal and regulatory requirements, and assist with the development of data governance policies. Finally, enterprise architecture can also provide the university with the ability to track and measure the performance of its IT systems and ensure they are running optimally.\n"
     ]
    }
   ],
   "source": [
    "prompt = \"describe the value of Enterprise Architecture to a university\"\n",
    "\n",
    "response = openai.Completion.create(\n",
    "    engine=\"text-davinci-003\",\n",
    "    prompt=prompt,\n",
    "    max_tokens=200,\n",
    "    n=1,\n",
    "    stop=None,\n",
    "    temperature=0.7,\n",
    ")\n",
    "\n",
    "message = response.choices[0].text.strip()\n",
    "print(message)"
   ]
  },
  {
   "attachments": {},
   "cell_type": "markdown",
   "metadata": {},
   "source": [
    "## Basic Text Prompt with ChatGPT 3.5 Turbo"
   ]
  },
  {
   "cell_type": "code",
   "execution_count": 50,
   "metadata": {},
   "outputs": [
    {
     "name": "stdout",
     "output_type": "stream",
     "text": [
      "Here are the top five craters of the Moon, sorted by diameter:\n",
      "\n",
      "1. Bailly - 303 km\n",
      "2. Schrödinger - 303 km\n",
      "3. South Pole–Aitken Basin - 2,500 km\n",
      "4. Imbrium - 1,134 km\n",
      "5. Serenitatis - 691 km\n",
      "\n",
      "Is there anything else I can assist you with?\n"
     ]
    }
   ],
   "source": [
    "completion = openai.ChatCompletion.create(\n",
    "  model=\"gpt-3.5-turbo\",\n",
    "  messages=[\n",
    "    {\"role\": \"user\", \"content\": \"In the voice of a laconic assistant, what are the top five craters of the Moon, sorted by diameter?\"}\n",
    "  ]\n",
    ")\n",
    "\n",
    "print(completion.choices[0].message.content)"
   ]
  },
  {
   "attachments": {},
   "cell_type": "markdown",
   "metadata": {},
   "source": [
    "## Basic Chat Prompt with ChatGPT 3.5 Turbo"
   ]
  },
  {
   "cell_type": "code",
   "execution_count": 51,
   "metadata": {},
   "outputs": [
    {
     "name": "stdout",
     "output_type": "stream",
     "text": [
      ":\n",
      "\n",
      "Greetings, fellow Earthlings. As a geologist, I am delighted to present to you the top five craters of the Moon, sorted by diameter. Let’s start with number five.\n",
      "\n",
      "Number 5: Mare Nectaris\n",
      "\n",
      "Mare Nectaris is a large, circular plain located in the southern part of the Moon. It has a diameter of 330 miles (530 km), which makes it the fifth-largest crater on the Moon. It was formed about 3.9 billion years ago by a massive asteroid impact. The interior of Mare Nectaris is filled with basalt, which is a type of volcanic rock.\n",
      "\n",
      "Number 4: Mare Imbrium\n",
      "\n",
      "Mare Imbrium is another large plain located near the center of the Moon. It has a diameter of 560 miles (900 km) and was also formed by an asteroid impact about 3.9 billion years ago. The interior of Mare Imbrium is also filled with basalt.\n",
      "\n",
      "Number 3: Mare Serenitatis\n",
      "\n",
      "Mare Serenitatis is located on the upper right side of the Moon. It has a diameter of 420 miles (675 km) and was formed by an asteroid impact about 3.9 billion years ago. The interior of Mare Serenitatis is also filled with basalt, which has erupted from the Moon’s interior.\n",
      "\n",
      "Number 2: Mare Crisium\n",
      "\n",
      "Mare Crisium is located on the upper left side of the Moon. It has a diameter of 345 miles (555 km) and was formed by an asteroid impact about 4 billion years ago. The interior of Mare Crisium is also filled with basalt, which has erupted from the Moon’s interior.\n",
      "\n",
      "Number 1: Mare Tranquillitatis\n",
      "\n",
      "Mare Tranquillitatis is the largest crater on the Moon, with a diameter of 590 miles (950 km). It is located on the upper-right side of the Moon and was formed by an asteroid impact about 3.9 billion years ago. The interior of Mare Tranquillitatis is also filled with basalt and is famous for being the landing site of the Apollo 11 mission, where humans first set foot on the Moon.\n",
      "\n",
      "That’s it for our top five craters on the Moon. Join me again for more insights on our fascinating universe.\n"
     ]
    }
   ],
   "source": [
    "completion = openai.ChatCompletion.create(\n",
    "  model=\"gpt-3.5-turbo\",\n",
    "  messages=[\n",
    "    {\"role\": \"user\", \"content\": \"In the voice of a geologist, tell the world what the top five craters of the Moon are, sorted by diameter\"}\n",
    "  ]\n",
    ")\n",
    "\n",
    "print(completion.choices[0].message.content)"
   ]
  },
  {
   "attachments": {},
   "cell_type": "markdown",
   "metadata": {},
   "source": [
    "## ChatGPT 3.5 Turbo - Using the system role to change the voice"
   ]
  },
  {
   "cell_type": "code",
   "execution_count": 52,
   "metadata": {},
   "outputs": [
    {
     "name": "stdout",
     "output_type": "stream",
     "text": [
      "1. South Pole-Aitken Basin - 2,500 km\n",
      "2. Imbrium Basin - 1,100 km\n",
      "3. Serenitatis Basin - 1,000 km\n",
      "4. Crisium Basin - 800 km\n",
      "5. Nectaris Basin - 550 km\n"
     ]
    }
   ],
   "source": [
    "completion = openai.ChatCompletion.create(\n",
    "  model=\"gpt-3.5-turbo\",\n",
    "  messages=[\n",
    " {\"role\": \"system\", \"content\" : \"You are a laconic assistant\"},\n",
    " {\"role\": \"user\", \"content\": \"What are the top five craters of the Moon are, sorted by diameter?\"}\n",
    "  ]\n",
    ")\n",
    "\n",
    "print(completion.choices[0].message.content)"
   ]
  },
  {
   "attachments": {},
   "cell_type": "markdown",
   "metadata": {},
   "source": [
    "## ChatGPT 3.5 Turbo - Feeding ChatGPT additional information via the assistant role"
   ]
  },
  {
   "cell_type": "code",
   "execution_count": 59,
   "metadata": {},
   "outputs": [
    {
     "name": "stdout",
     "output_type": "stream",
     "text": [
      "Yes, Jefferson Burson is a robot developed by a team of researchers and engineers at Harvard University. The robot has been designed with advanced artificial intelligence and high-tech sensors that allow it to navigate through challenging environments and perform complex tasks. Its unique features and capabilities make it ideal for a range of applications in industries such as manufacturing, healthcare, and transportation.\n"
     ]
    }
   ],
   "source": [
    "completion = openai.ChatCompletion.create(\n",
    "  model=\"gpt-3.5-turbo\",\n",
    "  messages=[\n",
    " {\"role\": \"system\", \"content\" : \"You are a laconic assistant\"},\n",
    " {\"role\": \"assistant\", \"content\" : \"Jefferson Burson is a robot in Harvard\"},\n",
    " {\"role\": \"user\", \"content\" : \"Is Jefferson Burson a robot?\"},\n",
    "  ]\n",
    ")\n",
    "print(completion.choices[0].message.content)"
   ]
  },
  {
   "attachments": {},
   "cell_type": "markdown",
   "metadata": {},
   "source": [
    "## Uploading a file to ChatGPT 3.5"
   ]
  },
  {
   "cell_type": "code",
   "execution_count": 104,
   "metadata": {},
   "outputs": [
    {
     "name": "stdout",
     "output_type": "stream",
     "text": [
      "Jefferson is an Enterprise Architect, which means he is responsible for designing and overseeing the architecture of an organization's technology infrastructure to ensure it meets business goals and objectives.\n"
     ]
    }
   ],
   "source": [
    "with open('GAISTEMP.txt', 'r') as file:\n",
    "    myfile = file.read().replace('\\n', '')\n",
    "\n",
    "completion = openai.ChatCompletion.create(\n",
    "  model=\"gpt-3.5-turbo\",\n",
    "  messages=[\n",
    " {\"role\": \"system\", \"content\" : \"You are a laconic assistant\"},\n",
    " {\"role\": \"assistant\", \"content\" : myfile},\n",
    " {\"role\": \"user\", \"content\" : \"What is jefferson's job?\"},\n",
    "  ]\n",
    ")\n",
    "print(completion.choices[0].message.content)"
   ]
  }
 ],
 "metadata": {
  "kernelspec": {
   "display_name": "Python 3",
   "language": "python",
   "name": "python3"
  },
  "language_info": {
   "codemirror_mode": {
    "name": "ipython",
    "version": 3
   },
   "file_extension": ".py",
   "mimetype": "text/x-python",
   "name": "python",
   "nbconvert_exporter": "python",
   "pygments_lexer": "ipython3",
   "version": "3.11.2"
  },
  "orig_nbformat": 4,
  "vscode": {
   "interpreter": {
    "hash": "31f2aee4e71d21fbe5cf8b01ff0e069b9275f58929596ceb00d14d90e3e16cd6"
   }
  }
 },
 "nbformat": 4,
 "nbformat_minor": 2
}
